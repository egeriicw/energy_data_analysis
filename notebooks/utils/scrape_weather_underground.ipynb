{
 "cells": [
  {
   "cell_type": "code",
   "execution_count": 2,
   "metadata": {},
   "outputs": [
    {
     "ename": "FileExistsError",
     "evalue": "[Errno 17] File exists: '../../data/weather/weather_underground/'",
     "output_type": "error",
     "traceback": [
      "\u001b[0;31m---------------------------------------------------------------------------\u001b[0m",
      "\u001b[0;31mFileExistsError\u001b[0m                           Traceback (most recent call last)",
      "\u001b[0;32m<ipython-input-2-3ca7bacb20d2>\u001b[0m in \u001b[0;36m<module>\u001b[0;34m\u001b[0m\n\u001b[1;32m      1\u001b[0m \u001b[0;32mimport\u001b[0m \u001b[0mos\u001b[0m\u001b[0;34m\u001b[0m\u001b[0;34m\u001b[0m\u001b[0m\n\u001b[0;32m----> 2\u001b[0;31m \u001b[0mos\u001b[0m\u001b[0;34m.\u001b[0m\u001b[0mmkdir\u001b[0m\u001b[0;34m(\u001b[0m\u001b[0;34m'../../data/weather/weather_underground/'\u001b[0m\u001b[0;34m)\u001b[0m\u001b[0;34m\u001b[0m\u001b[0;34m\u001b[0m\u001b[0m\n\u001b[0m",
      "\u001b[0;31mFileExistsError\u001b[0m: [Errno 17] File exists: '../../data/weather/weather_underground/'"
     ]
    }
   ],
   "source": [
    "import os\n",
    "os.mkdir('../../data/weather/weather_underground/')"
   ]
  },
  {
   "cell_type": "code",
   "execution_count": 3,
   "metadata": {},
   "outputs": [],
   "source": [
    "allstations = {'DC': ['KDCA']}"
   ]
  },
  {
   "cell_type": "code",
   "execution_count": 4,
   "metadata": {},
   "outputs": [
    {
     "ename": "FileExistsError",
     "evalue": "[Errno 17] File exists: '../../data/weather/weather_underground/KDCA'",
     "output_type": "error",
     "traceback": [
      "\u001b[0;31m---------------------------------------------------------------------------\u001b[0m",
      "\u001b[0;31mFileExistsError\u001b[0m                           Traceback (most recent call last)",
      "\u001b[0;32m<ipython-input-4-316bf51c11c0>\u001b[0m in \u001b[0;36m<module>\u001b[0;34m\u001b[0m\n\u001b[1;32m      1\u001b[0m \u001b[0;32mfor\u001b[0m \u001b[0mstate\u001b[0m\u001b[0;34m,\u001b[0m \u001b[0mstations\u001b[0m \u001b[0;32min\u001b[0m \u001b[0mallstations\u001b[0m\u001b[0;34m.\u001b[0m\u001b[0mitems\u001b[0m\u001b[0;34m(\u001b[0m\u001b[0;34m)\u001b[0m\u001b[0;34m:\u001b[0m\u001b[0;34m\u001b[0m\u001b[0;34m\u001b[0m\u001b[0m\n\u001b[1;32m      2\u001b[0m     \u001b[0;32mfor\u001b[0m \u001b[0mstation\u001b[0m \u001b[0;32min\u001b[0m \u001b[0mstations\u001b[0m\u001b[0;34m:\u001b[0m\u001b[0;34m\u001b[0m\u001b[0;34m\u001b[0m\u001b[0m\n\u001b[0;32m----> 3\u001b[0;31m         \u001b[0mos\u001b[0m\u001b[0;34m.\u001b[0m\u001b[0mmkdir\u001b[0m\u001b[0;34m(\u001b[0m\u001b[0;34m'../../data/weather/weather_underground/'\u001b[0m\u001b[0;34m+\u001b[0m\u001b[0mstation\u001b[0m\u001b[0;34m)\u001b[0m\u001b[0;34m\u001b[0m\u001b[0;34m\u001b[0m\u001b[0m\n\u001b[0m",
      "\u001b[0;31mFileExistsError\u001b[0m: [Errno 17] File exists: '../../data/weather/weather_underground/KDCA'"
     ]
    }
   ],
   "source": [
    "for state, stations in allstations.items():\n",
    "    for station in stations:\n",
    "        os.mkdir('../../data/weather/weather_underground/'+station)"
   ]
  },
  {
   "cell_type": "code",
   "execution_count": 5,
   "metadata": {},
   "outputs": [],
   "source": [
    "from datetime import datetime, timedelta\n",
    "import requests\n",
    "import pandas as pd\n",
    "import time\n",
    "import random\n",
    "from selenium import webdriver\n",
    "from selenium.webdriver.firefox.options import Options\n",
    "from selenium.webdriver.common.action_chains import ActionChains\n",
    "from selenium.webdriver.firefox.firefox_binary import FirefoxBinary\n",
    "from selenium.webdriver.common.keys import Keys\n",
    "from selenium.webdriver.common.by import By\n",
    "from selenium.webdriver.support.ui import WebDriverWait\n",
    "from selenium.webdriver.support import expected_conditions as EC"
   ]
  },
  {
   "cell_type": "code",
   "execution_count": 6,
   "metadata": {},
   "outputs": [],
   "source": [
    "options = Options()\n",
    "options.headless = True"
   ]
  },
  {
   "cell_type": "code",
   "execution_count": 7,
   "metadata": {},
   "outputs": [],
   "source": [
    "url_prefix = \"https://www.wunderground.com/history/daily/us/va/arlington-county/KDCA/\"\n",
    "driver = webdriver.Firefox(options=options, executable_path='/usr/local/bin/geckodriver')"
   ]
  },
  {
   "cell_type": "code",
   "execution_count": 8,
   "metadata": {},
   "outputs": [],
   "source": [
    "def scrape_station_weather_history(wdriver, url_base, station, start_date, end_date):\n",
    "    current_date = datetime.strptime(start_date, \"%Y-%m-%d\")\n",
    "    end_date = datetime.strptime(end_date, \"%Y-%m-%d\") + timedelta(days=1)\n",
    "    \n",
    "    lookup_url = url_base + \"date/{}\"\n",
    "    \n",
    "    while current_date != end_date:\n",
    "        \n",
    "        backoff_time = random.randint(10,60)\n",
    "        \n",
    "        try:\n",
    "            formatted_lookup_url = lookup_url.format(current_date.strftime('%Y-%m-%d'))\n",
    "            #response = requests.get(formatted_lookup_url, headers={'User-agent': 'Mozilla/5.0 (Windows NT 6.1) AppleWebKit/537.36 (KHTML, like Gecko) Chrome/41.0.2228.0 Safari/537.36'})\n",
    "            \n",
    "            wdriver.get(formatted_lookup_url)\n",
    "            #source = WebDriverWait(driver, random.randint(10,15)).until(EC.presence_of_all_elements_located((By.TAG_NAME,\"lib-city-history-observation\")))\n",
    "            #print(source.pop())\n",
    "            \n",
    "            #print(source[0].find_element_by_class_name('mat-table'))\n",
    "            \n",
    "            #out_filename = 'weather_data/{}/{}.html'.format(station, current_date) \n",
    "    \n",
    "            #with open(out_filename, 'wb') as out_file:\n",
    "            #    out_file.write(source) \n",
    "    \n",
    "            \"\"\"***start test area\"\"\"\n",
    "        \n",
    "            tables = WebDriverWait(wdriver, random.randint(10,15)).until(EC.presence_of_all_elements_located((By.CLASS_NAME,\"mat-table.cdk-table.mat-sort.ng-star-inserted\")))\n",
    "        \n",
    "            df = pd.read_html(tables[0].get_attribute('outerHTML'), encoding='UTF-8')\n",
    "            new_df = df[0]\n",
    "            \n",
    "            \n",
    "            new_df.to_csv('../../data/weather/weather_underground/{}/input/{}.csv'.format(station, current_date.strftime('%Y-%m-%d')), index=False)\n",
    "            \n",
    "        \n",
    "            \"\"\"***end test area***\"\"\"\n",
    "\n",
    "            print(\"Saved {}.csv\".format(current_date.strftime('%Y-%m-%d')))\n",
    "    \n",
    "    \n",
    "            current_date += timedelta(days=1)\n",
    "            \n",
    "            time.sleep(random.randint(10,20))\n",
    "            \n",
    "        except ConnectionError as e:\n",
    "            # May get rate limited by Wunderground.com, backoff if so.\n",
    "            print(\"Got connection error on {}\".format(current_date))\n",
    "            print(\"Will retry in {} seconds\".format(backoff_time))\n",
    "            time.sleep(backoff_time)"
   ]
  },
  {
   "cell_type": "code",
   "execution_count": 9,
   "metadata": {},
   "outputs": [
    {
     "name": "stdout",
     "output_type": "stream",
     "text": [
      "Saved 2020-05-27.csv\n",
      "Saved 2020-05-28.csv\n",
      "Saved 2020-05-29.csv\n",
      "Saved 2020-05-30.csv\n",
      "Saved 2020-05-31.csv\n",
      "Saved 2020-06-01.csv\n",
      "Saved 2020-06-02.csv\n",
      "Saved 2020-06-03.csv\n",
      "Saved 2020-06-04.csv\n",
      "Saved 2020-06-05.csv\n",
      "Saved 2020-06-06.csv\n",
      "Saved 2020-06-07.csv\n",
      "Saved 2020-06-08.csv\n",
      "Saved 2020-06-09.csv\n",
      "Saved 2020-06-10.csv\n",
      "Saved 2020-06-11.csv\n",
      "Saved 2020-06-12.csv\n",
      "Saved 2020-06-13.csv\n",
      "Saved 2020-06-14.csv\n",
      "Saved 2020-06-15.csv\n",
      "Saved 2020-06-16.csv\n",
      "Saved 2020-06-17.csv\n",
      "Saved 2020-06-18.csv\n",
      "Saved 2020-06-19.csv\n",
      "Saved 2020-06-20.csv\n",
      "Saved 2020-06-21.csv\n",
      "Saved 2020-06-22.csv\n"
     ]
    }
   ],
   "source": [
    "scrape_station_weather_history(driver, url_prefix, \"KDCA\", \"2020-05-27\", \"2020-06-22\")"
   ]
  },
  {
   "cell_type": "code",
   "execution_count": null,
   "metadata": {},
   "outputs": [],
   "source": []
  }
 ],
 "metadata": {
  "kernelspec": {
   "display_name": "Python 3",
   "language": "python",
   "name": "python3"
  },
  "language_info": {
   "codemirror_mode": {
    "name": "ipython",
    "version": 3
   },
   "file_extension": ".py",
   "mimetype": "text/x-python",
   "name": "python",
   "nbconvert_exporter": "python",
   "pygments_lexer": "ipython3",
   "version": "3.7.3"
  }
 },
 "nbformat": 4,
 "nbformat_minor": 2
}
