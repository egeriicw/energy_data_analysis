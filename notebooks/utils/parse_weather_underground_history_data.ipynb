{
 "cells": [
  {
   "cell_type": "code",
   "execution_count": 54,
   "metadata": {},
   "outputs": [],
   "source": [
    "import pandas as pd\n",
    "import glob\n",
    "import os"
   ]
  },
  {
   "cell_type": "code",
   "execution_count": 41,
   "metadata": {},
   "outputs": [],
   "source": [
    "# Setup input and processed directories\n",
    "dir_name = '../../data/weather/weather_underground/KDCA/'\n",
    "input_dir_name = dir_name + 'input/'\n",
    "processed_dir_name = dir_name + 'processed/'"
   ]
  },
  {
   "cell_type": "code",
   "execution_count": 42,
   "metadata": {},
   "outputs": [],
   "source": [
    "#df = pd.read_csv(input_dir_name + '{}.csv'.format(file_name))"
   ]
  },
  {
   "cell_type": "code",
   "execution_count": 43,
   "metadata": {},
   "outputs": [],
   "source": [
    "def insert_date_and_datetime(df, date_name):\n",
    "    df.insert(0, \"Date\", date_name)\n",
    "    df.insert(0, \"DateTime\", pd.to_datetime(df['Date'].astype(str) + ' ' + df['Time'].astype(str)))\n",
    "    \n",
    "    return df"
   ]
  },
  {
   "cell_type": "code",
   "execution_count": 44,
   "metadata": {},
   "outputs": [],
   "source": [
    "def remove_unicode_and_unit_from_column_data(df, column_name, column_unit):\n",
    "    df[column_name] = df[column_name].apply(lambda row: row.encode('ascii', 'ignore').decode('utf-8').split(column_unit)[0])\n",
    "    return df"
   ]
  },
  {
   "cell_type": "code",
   "execution_count": 45,
   "metadata": {
    "scrolled": false
   },
   "outputs": [],
   "source": [
    "#columns = [['Temperature','F'],['Dew Point', 'F'], ['Humidity', '%'], ['Wind Speed', 'mph'], ['Wind Gust', 'mph'], ['Pressure', 'in'], ['Precip.', 'in']]\n",
    "#df = insert_date_and_datetime(df, file_name)\n",
    "#for column in columns:\n",
    "#    df = remove_unicode_and_unit_from_column_data(df, column[0], column[1])"
   ]
  },
  {
   "cell_type": "code",
   "execution_count": 51,
   "metadata": {},
   "outputs": [],
   "source": [
    "columns = [['Temperature','F'],['Dew Point', 'F'], ['Humidity', '%'], ['Wind Speed', 'mph'], ['Wind Gust', 'mph'], ['Pressure', 'in'], ['Precip.', 'in']]\n",
    "\n",
    "appended_df = []\n",
    "\n",
    "first = True\n",
    "filenames = glob.glob(input_dir_name + '*.csv')\n",
    "for filename in filenames:\n",
    "    \n",
    "    file_name = filename.split('/')[7].split('.')[0]\n",
    "    \n",
    "    df = pd.read_csv(input_dir_name + '{}.csv'.format(file_name))\n",
    "    \n",
    "    df = insert_date_and_datetime(df, file_name)\n",
    "\n",
    "    for column in columns:\n",
    "        df = remove_unicode_and_unit_from_column_data(df, column[0], column[1])\n",
    "        \n",
    "    df.to_csv(processed_dir_name + 'p-{}.csv'.format(file_name), index=False)\n",
    "    \n",
    "    appended_df.append(df)"
   ]
  },
  {
   "cell_type": "code",
   "execution_count": 52,
   "metadata": {},
   "outputs": [],
   "source": [
    "df_tot = pd.concat(appended_df)\n",
    "df_tot.to_csv(dir_name + 'weather_underground_processed_total.csv', index=False)"
   ]
  },
  {
   "cell_type": "code",
   "execution_count": 53,
   "metadata": {},
   "outputs": [
    {
     "name": "stdout",
     "output_type": "stream",
     "text": [
      "<class 'pandas.core.frame.DataFrame'>\n",
      "Int64Index: 115194 entries, 0 to 40\n",
      "Data columns (total 12 columns):\n",
      "DateTime       115194 non-null datetime64[ns]\n",
      "Date           115194 non-null object\n",
      "Time           115194 non-null object\n",
      "Temperature    115194 non-null object\n",
      "Dew Point      115194 non-null object\n",
      "Humidity       115194 non-null object\n",
      "Wind           115123 non-null object\n",
      "Wind Speed     115194 non-null object\n",
      "Wind Gust      115194 non-null object\n",
      "Pressure       115194 non-null object\n",
      "Precip.        115194 non-null object\n",
      "Condition      115182 non-null object\n",
      "dtypes: datetime64[ns](1), object(11)\n",
      "memory usage: 11.4+ MB\n"
     ]
    }
   ],
   "source": [
    "df_tot.info()"
   ]
  },
  {
   "cell_type": "code",
   "execution_count": null,
   "metadata": {},
   "outputs": [],
   "source": []
  }
 ],
 "metadata": {
  "kernelspec": {
   "display_name": "Python 3",
   "language": "python",
   "name": "python3"
  },
  "language_info": {
   "codemirror_mode": {
    "name": "ipython",
    "version": 3
   },
   "file_extension": ".py",
   "mimetype": "text/x-python",
   "name": "python",
   "nbconvert_exporter": "python",
   "pygments_lexer": "ipython3",
   "version": "3.7.3"
  }
 },
 "nbformat": 4,
 "nbformat_minor": 2
}
